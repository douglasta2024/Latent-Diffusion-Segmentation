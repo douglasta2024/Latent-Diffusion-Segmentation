{
 "cells": [
  {
   "cell_type": "code",
   "execution_count": 1,
   "metadata": {},
   "outputs": [
    {
     "name": "stderr",
     "output_type": "stream",
     "text": [
      "/home/douglas.ta/AIS/med/lib64/python3.11/site-packages/ignite/handlers/checkpoint.py:17: DeprecationWarning: `TorchScript` support for functional optimizers is deprecated and will be removed in a future PyTorch release. Consider using the `torch.compile` optimizer instead.\n",
      "  from torch.distributed.optim import ZeroRedundancyOptimizer\n"
     ]
    },
    {
     "name": "stdout",
     "output_type": "stream",
     "text": [
      "MONAI version: 1.3.2\n",
      "Numpy version: 1.26.4\n",
      "Pytorch version: 2.4.1+cu121\n",
      "MONAI flags: HAS_EXT = False, USE_COMPILED = False, USE_META_DICT = False\n",
      "MONAI rev id: 59a7211070538586369afd4a01eca0a7fe2e742e\n",
      "MONAI __file__: /home/<username>/AIS/med/lib64/python3.11/site-packages/monai/__init__.py\n",
      "\n",
      "Optional dependencies:\n",
      "Pytorch Ignite version: 0.4.11\n",
      "ITK version: NOT INSTALLED or UNKNOWN VERSION.\n",
      "Nibabel version: 5.2.1\n",
      "scikit-image version: NOT INSTALLED or UNKNOWN VERSION.\n",
      "scipy version: 1.14.1\n",
      "Pillow version: 10.4.0\n",
      "Tensorboard version: 2.18.0\n",
      "gdown version: 5.2.0\n",
      "TorchVision version: NOT INSTALLED or UNKNOWN VERSION.\n",
      "tqdm version: 4.66.5\n",
      "lmdb version: NOT INSTALLED or UNKNOWN VERSION.\n",
      "psutil version: 6.0.0\n",
      "pandas version: 2.2.3\n",
      "einops version: NOT INSTALLED or UNKNOWN VERSION.\n",
      "transformers version: NOT INSTALLED or UNKNOWN VERSION.\n",
      "mlflow version: 2.16.2\n",
      "pynrrd version: NOT INSTALLED or UNKNOWN VERSION.\n",
      "clearml version: NOT INSTALLED or UNKNOWN VERSION.\n",
      "\n",
      "For details about installing the optional dependencies, please visit:\n",
      "    https://docs.monai.io/en/latest/installation.html#installing-the-recommended-dependencies\n",
      "\n"
     ]
    }
   ],
   "source": [
    "import glob\n",
    "import logging\n",
    "import os\n",
    "from pathlib import Path\n",
    "import shutil\n",
    "import sys\n",
    "import tempfile\n",
    "\n",
    "import nibabel as nib\n",
    "import numpy as np\n",
    "from monai.config import print_config\n",
    "from monai.data import ArrayDataset, create_test_image_3d, decollate_batch, DataLoader\n",
    "from monai.handlers import (\n",
    "    MeanDice,\n",
    "    MLFlowHandler,\n",
    "    StatsHandler,\n",
    "    TensorBoardImageHandler,\n",
    "    TensorBoardStatsHandler,\n",
    ")\n",
    "from monai.losses import DiceLoss\n",
    "from monai.networks.nets import UNet\n",
    "from monai.transforms import (\n",
    "    Activations,\n",
    "    EnsureChannelFirst,\n",
    "    AsDiscrete,\n",
    "    Compose,\n",
    "    LoadImage,\n",
    "    RandSpatialCrop,\n",
    "    Resize,\n",
    "    ScaleIntensity,\n",
    ")\n",
    "from monai.utils import first\n",
    "\n",
    "import ignite\n",
    "import torch\n",
    "\n",
    "print_config()"
   ]
  },
  {
   "cell_type": "markdown",
   "metadata": {},
   "source": [
    "### Data Preparation"
   ]
  },
  {
   "cell_type": "code",
   "execution_count": 2,
   "metadata": {},
   "outputs": [
    {
     "data": {
      "text/plain": [
       "('/home/douglas.ta/AIS/Latent-Diffusion-Segmentation',\n",
       " '/home/douglas.ta/LD_ZNet_Replicate/UNet/Latent-Diffusion-Segmentation/data')"
      ]
     },
     "execution_count": 2,
     "metadata": {},
     "output_type": "execute_result"
    }
   ],
   "source": [
    "### setting up the root and data paths\n",
    "root_dir = os.getcwd()\n",
    "data_dir = os.path.join(\"/home/douglas.ta/LD_ZNet_Replicate/\", \"UNet\", \"Latent-Diffusion-Segmentation\", \"data\")\n",
    "\n",
    "root_dir, data_dir"
   ]
  },
  {
   "cell_type": "code",
   "execution_count": 3,
   "metadata": {},
   "outputs": [
    {
     "data": {
      "text/plain": [
       "(27, 27)"
      ]
     },
     "execution_count": 3,
     "metadata": {},
     "output_type": "execute_result"
    }
   ],
   "source": [
    "### collecting the datapaths for the volume and segmentation images\n",
    "images = sorted(glob.glob(os.path.join(data_dir, \"volume-*.nii\")))\n",
    "segs = sorted(glob.glob(os.path.join(data_dir, \"segmentation-*.nii\")))\n",
    "\n",
    "len(images), len(segs)"
   ]
  },
  {
   "cell_type": "code",
   "execution_count": 4,
   "metadata": {},
   "outputs": [
    {
     "name": "stdout",
     "output_type": "stream",
     "text": [
      "torch.Size([3, 1, 96, 96, 96]) torch.Size([3, 1, 96, 96, 96])\n"
     ]
    }
   ],
   "source": [
    "### Define transforms for image and segmentation\n",
    "imtrans = Compose(\n",
    "    [\n",
    "        LoadImage(image_only=True),\n",
    "        ScaleIntensity(),\n",
    "        EnsureChannelFirst(),\n",
    "        RandSpatialCrop((96,96,96), random_size=False),\n",
    "    ]\n",
    ")\n",
    "segtrans = Compose(\n",
    "    [\n",
    "        LoadImage(image_only=True),\n",
    "        EnsureChannelFirst(),\n",
    "        RandSpatialCrop((96,96,96), random_size=False),\n",
    "    ]\n",
    ")\n",
    "\n",
    "### Define nifti dataset, dataloader\n",
    "ds = ArrayDataset(images, imtrans, segs, segtrans)\n",
    "loader = DataLoader(ds, batch_size=3, num_workers=2, pin_memory=torch.cuda.is_available())\n",
    "im, seg = first(loader)\n",
    "print(im.shape, seg.shape)"
   ]
  },
  {
   "cell_type": "code",
   "execution_count": 12,
   "metadata": {},
   "outputs": [
    {
     "name": "stdout",
     "output_type": "stream",
     "text": [
      "<class 'nibabel.nifti1.Nifti1Header'> object, endian='<'\n",
      "sizeof_hdr      : 348\n",
      "data_type       : b''\n",
      "db_name         : b''\n",
      "extents         : 0\n",
      "session_error   : 0\n",
      "regular         : b'r'\n",
      "dim_info        : 0\n",
      "dim             : [  3 512 512 123   1   1   1   1]\n",
      "intent_p1       : 0.0\n",
      "intent_p2       : 0.0\n",
      "intent_p3       : 0.0\n",
      "intent_code     : none\n",
      "datatype        : int16\n",
      "bitpix          : 16\n",
      "slice_start     : 0\n",
      "pixdim          : [-1.00000e+00  6.75781e-01  6.75781e-01  5.00000e+00  0.00000e+00\n",
      "  1.00000e+00  1.00000e+00  5.09990e+04]\n",
      "vox_offset      : 0.0\n",
      "scl_slope       : nan\n",
      "scl_inter       : nan\n",
      "slice_end       : 0\n",
      "slice_code      : unknown\n",
      "xyzt_units      : 10\n",
      "cal_max         : 0.0\n",
      "cal_min         : 0.0\n",
      "slice_duration  : 0.0\n",
      "toffset         : 0.0\n",
      "glmax           : 255\n",
      "glmin           : 0\n",
      "descrip         : b'TE=0;sec=50999.0000;name='\n",
      "aux_file        : b'!56THORAXABDOMENvenoespr'\n",
      "qform_code      : scanner\n",
      "sform_code      : scanner\n",
      "quatern_b       : 0.0\n",
      "quatern_c       : 1.0\n",
      "quatern_d       : 0.0\n",
      "qoffset_x       : 177.2\n",
      "qoffset_y       : -172.3241\n",
      "qoffset_z       : -560.25\n",
      "srow_x          : [ -0.675781   0.         0.       177.2     ]\n",
      "srow_y          : [   0.          0.675781    0.       -172.3241  ]\n",
      "srow_z          : [   0.      0.      5.   -560.25]\n",
      "intent_name     : b''\n",
      "magic           : b'n+1'\n"
     ]
    }
   ],
   "source": [
    "import nibabel as nib\n",
    "\n",
    "# loading in example image of data\n",
    "ex = nib.load(images[0])\n",
    "print(ex.header)"
   ]
  },
  {
   "cell_type": "code",
   "execution_count": 13,
   "metadata": {},
   "outputs": [
    {
     "data": {
      "image/png": "[encoded data removed]",
      "text/plain": [
       "<Figure size 660x350 with 4 Axes>"
      ]
     },
     "metadata": {},
     "output_type": "display_data"
    }
   ],
   "source": [
    "from nilearn import plotting\n",
    "import matplotlib.pyplot as plt\n",
    "\n",
    "# displaying an example image of my data\n",
    "plotting.plot_img(ex)\n",
    "plt.show()"
   ]
  },
  {
   "cell_type": "code",
   "execution_count": null,
   "metadata": {},
   "outputs": [],
   "source": [
    "# Create UNet, DiceLoss and Adam optimizer\n",
    "device = torch.device(\"cuda:0\")\n",
    "net = UNet(\n",
    "    spatial_dims=3,\n",
    "    in_channels=1,\n",
    "    out_channels=1,\n",
    "    channels=(16, 32, 64, 128, 256),\n",
    "    strides=(2, 2, 2, 2),\n",
    "    num_res_units=2,\n",
    ").to(device)\n",
    "\n",
    "loss = DiceLoss(sigmoid=True)\n",
    "lr = 0.1\n",
    "opt = torch.optim.Adam(net.parameters(), lr)"
   ]
  },
  {
   "cell_type": "code",
   "execution_count": null,
   "metadata": {},
   "outputs": [],
   "source": [
    "# Create trainer\n",
    "trainer = ignite.engine.create_supervised_trainer(net, opt, loss, device, False)"
   ]
  },
  {
   "cell_type": "code",
   "execution_count": null,
   "metadata": {},
   "outputs": [],
   "source": [
    "# optional section for checkpoint and tensorboard logging\n",
    "# adding checkpoint handler to save models (network\n",
    "# params and optimizer stats) during training\n",
    "log_dir = os.path.join(root_dir, \"logs\")\n",
    "checkpoint_handler = ignite.handlers.ModelCheckpoint(log_dir, \"net\", n_saved=10, require_empty=False)\n",
    "trainer.add_event_handler(\n",
    "    event_name=ignite.engine.Events.EPOCH_COMPLETED,\n",
    "    handler=checkpoint_handler,\n",
    "    to_save={\"net\": net, \"opt\": opt},\n",
    ")\n",
    "\n",
    "# StatsHandler prints loss at every iteration\n",
    "# user can also customize print functions and can use output_transform to convert\n",
    "# engine.state.output if it's not a loss value\n",
    "train_stats_handler = StatsHandler(name=\"trainer\", output_transform=lambda x: x)\n",
    "train_stats_handler.attach(trainer)\n",
    "\n",
    "# TensorBoardStatsHandler plots loss at every iteration\n",
    "train_tensorboard_stats_handler = TensorBoardStatsHandler(log_dir=log_dir, output_transform=lambda x: x)\n",
    "train_tensorboard_stats_handler.attach(trainer)\n",
    "\n",
    "# MLFlowHandler plots loss at every iteration on MLFlow web UI\n",
    "mlflow_dir = os.path.join(log_dir, \"mlruns\")\n",
    "train_mlflow_handler = MLFlowHandler(tracking_uri=Path(mlflow_dir).as_uri(), output_transform=lambda x: x)\n",
    "train_mlflow_handler.attach(trainer)"
   ]
  },
  {
   "cell_type": "code",
   "execution_count": null,
   "metadata": {},
   "outputs": [
    {
     "data": {
      "text/plain": [
       "<ignite.engine.events.RemovableEventHandle at 0x14ee73cdd690>"
      ]
     },
     "execution_count": 46,
     "metadata": {},
     "output_type": "execute_result"
    }
   ],
   "source": [
    "# optional section for model validation during training\n",
    "validation_every_n_epochs = 4\n",
    "# Set parameters for validation\n",
    "metric_name = \"Mean_Dice\"\n",
    "# add evaluation metric to the evaluator engine\n",
    "val_metrics = {metric_name: MeanDice()}\n",
    "post_pred = Compose([Activations(sigmoid=True), AsDiscrete(threshold=0.5)])\n",
    "post_label = Compose([AsDiscrete(threshold=0.5)])\n",
    "# Ignite evaluator expects batch=(img, seg) and\n",
    "# returns output=(y_pred, y) at every iteration,\n",
    "# user can add output_transform to return other values\n",
    "evaluator = ignite.engine.create_supervised_evaluator(\n",
    "    net,\n",
    "    val_metrics,\n",
    "    device,\n",
    "    True,\n",
    "    output_transform=lambda x, y, y_pred: (\n",
    "        [post_pred(i) for i in decollate_batch(y_pred)],\n",
    "        [post_label(i) for i in decollate_batch(y)],\n",
    "    ),\n",
    ")\n",
    "\n",
    "# create a validation data loader\n",
    "val_imtrans = Compose(\n",
    "    [\n",
    "        LoadImage(image_only=True),\n",
    "        ScaleIntensity(),\n",
    "        EnsureChannelFirst(),\n",
    "        Resize((96, 96, 96)),\n",
    "    ]\n",
    ")\n",
    "val_segtrans = Compose(\n",
    "    [\n",
    "        LoadImage(image_only=True),\n",
    "        EnsureChannelFirst(),\n",
    "        Resize((96, 96, 96)),\n",
    "    ]\n",
    ")\n",
    "val_ds = ArrayDataset(images[15:], val_imtrans, segs[15:], val_segtrans)\n",
    "val_loader = DataLoader(val_ds, batch_size=3, num_workers=8, pin_memory=torch.cuda.is_available())\n",
    "\n",
    "\n",
    "@trainer.on(ignite.engine.Events.EPOCH_COMPLETED(every=validation_every_n_epochs))\n",
    "def run_validation(engine):\n",
    "    evaluator.run(val_loader)\n",
    "\n",
    "\n",
    "# Add stats event handler to print validation stats via evaluator\n",
    "val_stats_handler = StatsHandler(\n",
    "    name=\"evaluator\",\n",
    "    # no need to print loss value, so disable per iteration output\n",
    "    output_transform=lambda x: None,\n",
    "    # fetch global epoch number from trainer\n",
    "    global_epoch_transform=lambda x: trainer.state.epoch,\n",
    ")\n",
    "val_stats_handler.attach(evaluator)\n",
    "\n",
    "# add handler to record metrics to TensorBoard at every validation epoch\n",
    "val_tensorboard_stats_handler = TensorBoardStatsHandler(\n",
    "    log_dir=log_dir,\n",
    "    # no need to plot loss value, so disable per iteration output\n",
    "    output_transform=lambda x: None,\n",
    "    # fetch global epoch number from trainer\n",
    "    global_epoch_transform=lambda x: trainer.state.epoch,\n",
    ")\n",
    "val_tensorboard_stats_handler.attach(evaluator)\n",
    "\n",
    "# add handler to record metrics to MLFlow at every validation epoch\n",
    "val_mlflow_handler = MLFlowHandler(\n",
    "    tracking_uri=Path(mlflow_dir).as_uri(),\n",
    "    # no need to plot loss value, so disable per iteration output\n",
    "    output_transform=lambda x: None,\n",
    "    # fetch global epoch number from trainer\n",
    "    global_epoch_transform=lambda x: trainer.state.epoch,\n",
    ")\n",
    "val_mlflow_handler.attach(evaluator)\n",
    "\n",
    "# add handler to draw the first image and the corresponding\n",
    "# label and model output in the last batch\n",
    "# here we draw the 3D output as GIF format along Depth\n",
    "# axis, at every validation epoch\n",
    "val_tensorboard_image_handler = TensorBoardImageHandler(\n",
    "    log_dir=log_dir,\n",
    "    batch_transform=lambda batch: (batch[0], batch[1]),\n",
    "    output_transform=lambda output: output[0],\n",
    "    global_iter_transform=lambda x: trainer.state.epoch,\n",
    ")\n",
    "evaluator.add_event_handler(\n",
    "    event_name=ignite.engine.Events.EPOCH_COMPLETED,\n",
    "    handler=val_tensorboard_image_handler,\n",
    ")"
   ]
  },
  {
   "cell_type": "code",
   "execution_count": null,
   "metadata": {},
   "outputs": [
    {
     "name": "stdout",
     "output_type": "stream",
     "text": [
      "2024-10-06 18:50:48,541 - INFO - Epoch: 1/20, Iter: 1/5 -- Loss: 0.9749 \n",
      "2024-10-06 18:50:48,574 - INFO - Epoch: 1/20, Iter: 2/5 -- Loss: 1.0000 \n",
      "2024-10-06 18:51:18,197 - INFO - Epoch: 1/20, Iter: 3/5 -- Loss: 0.8092 \n",
      "2024-10-06 18:51:18,229 - INFO - Epoch: 1/20, Iter: 4/5 -- Loss: 0.8711 \n",
      "2024-10-06 18:51:18,260 - INFO - Epoch: 1/20, Iter: 5/5 -- Loss: 1.0000 \n",
      "2024-10-06 18:53:10,579 - INFO - Epoch: 2/20, Iter: 1/5 -- Loss: 1.0000 \n",
      "2024-10-06 18:53:29,445 - INFO - Epoch: 2/20, Iter: 2/5 -- Loss: 0.7609 \n",
      "2024-10-06 18:53:29,480 - INFO - Epoch: 2/20, Iter: 3/5 -- Loss: 0.8139 \n",
      "2024-10-06 18:53:29,513 - INFO - Epoch: 2/20, Iter: 4/5 -- Loss: 1.0000 \n",
      "2024-10-06 18:53:29,545 - INFO - Epoch: 2/20, Iter: 5/5 -- Loss: 0.9139 \n",
      "2024-10-06 18:55:19,253 - INFO - Epoch: 3/20, Iter: 1/5 -- Loss: 0.8215 \n",
      "2024-10-06 18:55:19,290 - INFO - Epoch: 3/20, Iter: 2/5 -- Loss: 0.9746 \n",
      "2024-10-06 18:55:41,096 - INFO - Epoch: 3/20, Iter: 3/5 -- Loss: 1.0000 \n",
      "2024-10-06 18:55:41,131 - INFO - Epoch: 3/20, Iter: 4/5 -- Loss: 1.0000 \n",
      "2024-10-06 18:55:41,165 - INFO - Epoch: 3/20, Iter: 5/5 -- Loss: 0.9722 \n",
      "2024-10-06 18:57:36,492 - INFO - Epoch: 4/20, Iter: 1/5 -- Loss: 0.9124 \n",
      "2024-10-06 18:57:58,857 - INFO - Epoch: 4/20, Iter: 2/5 -- Loss: 0.6427 \n",
      "2024-10-06 18:57:58,892 - INFO - Epoch: 4/20, Iter: 3/5 -- Loss: 0.9426 \n",
      "2024-10-06 18:57:58,924 - INFO - Epoch: 4/20, Iter: 4/5 -- Loss: 1.0000 \n",
      "2024-10-06 18:57:58,955 - INFO - Epoch: 4/20, Iter: 5/5 -- Loss: 1.0000 \n",
      "2024-10-06 19:00:27,678 - INFO - Epoch[4] Metrics -- Mean_Dice: 0.0826 \n",
      "2024-10-06 19:02:36,363 - INFO - Epoch: 5/20, Iter: 1/5 -- Loss: 1.0000 \n",
      "2024-10-06 19:02:36,399 - INFO - Epoch: 5/20, Iter: 2/5 -- Loss: 1.0000 \n",
      "2024-10-06 19:02:36,431 - INFO - Epoch: 5/20, Iter: 3/5 -- Loss: 1.0000 \n",
      "2024-10-06 19:02:36,463 - INFO - Epoch: 5/20, Iter: 4/5 -- Loss: 0.3798 \n",
      "2024-10-06 19:02:36,498 - INFO - Epoch: 5/20, Iter: 5/5 -- Loss: 0.9001 \n",
      "2024-10-06 19:04:42,531 - INFO - Epoch: 6/20, Iter: 1/5 -- Loss: 1.0000 \n",
      "2024-10-06 19:04:42,567 - INFO - Epoch: 6/20, Iter: 2/5 -- Loss: 1.0000 \n",
      "2024-10-06 19:04:42,600 - INFO - Epoch: 6/20, Iter: 3/5 -- Loss: 1.0000 \n",
      "2024-10-06 19:04:42,630 - INFO - Epoch: 6/20, Iter: 4/5 -- Loss: 0.8791 \n",
      "2024-10-06 19:05:03,576 - INFO - Epoch: 6/20, Iter: 5/5 -- Loss: 1.0000 \n",
      "2024-10-06 19:06:53,369 - INFO - Epoch: 7/20, Iter: 1/5 -- Loss: 1.0000 \n",
      "2024-10-06 19:07:01,107 - INFO - Epoch: 7/20, Iter: 2/5 -- Loss: 0.8576 \n",
      "2024-10-06 19:07:04,424 - INFO - Epoch: 7/20, Iter: 3/5 -- Loss: 0.9733 \n",
      "2024-10-06 19:07:04,459 - INFO - Epoch: 7/20, Iter: 4/5 -- Loss: 1.0000 \n",
      "2024-10-06 19:07:08,729 - INFO - Epoch: 7/20, Iter: 5/5 -- Loss: 1.0000 \n",
      "2024-10-06 19:09:41,745 - INFO - Epoch: 8/20, Iter: 1/5 -- Loss: 1.0000 \n",
      "2024-10-06 19:09:41,781 - INFO - Epoch: 8/20, Iter: 2/5 -- Loss: 0.6801 \n",
      "2024-10-06 19:09:41,816 - INFO - Epoch: 8/20, Iter: 3/5 -- Loss: 1.0000 \n",
      "2024-10-06 19:09:41,848 - INFO - Epoch: 8/20, Iter: 4/5 -- Loss: 1.0000 \n",
      "2024-10-06 19:09:41,881 - INFO - Epoch: 8/20, Iter: 5/5 -- Loss: 0.7036 \n",
      "2024-10-06 19:12:09,079 - INFO - Epoch[8] Metrics -- Mean_Dice: 0.0850 \n",
      "2024-10-06 19:14:22,697 - INFO - Epoch: 9/20, Iter: 1/5 -- Loss: 0.9914 \n",
      "2024-10-06 19:14:22,734 - INFO - Epoch: 9/20, Iter: 2/5 -- Loss: 0.7231 \n",
      "2024-10-06 19:14:22,767 - INFO - Epoch: 9/20, Iter: 3/5 -- Loss: 1.0000 \n",
      "2024-10-06 19:14:22,800 - INFO - Epoch: 9/20, Iter: 4/5 -- Loss: 0.9926 \n",
      "2024-10-06 19:14:22,836 - INFO - Epoch: 9/20, Iter: 5/5 -- Loss: 0.9083 \n",
      "2024-10-06 19:15:56,980 - INFO - Epoch: 10/20, Iter: 1/5 -- Loss: 1.0000 \n",
      "2024-10-06 19:16:34,404 - INFO - Epoch: 10/20, Iter: 2/5 -- Loss: 0.9974 \n",
      "2024-10-06 19:16:34,439 - INFO - Epoch: 10/20, Iter: 3/5 -- Loss: 1.0000 \n",
      "2024-10-06 19:16:34,474 - INFO - Epoch: 10/20, Iter: 4/5 -- Loss: 1.0000 \n",
      "2024-10-06 19:16:34,506 - INFO - Epoch: 10/20, Iter: 5/5 -- Loss: 1.0000 \n",
      "2024-10-06 19:17:42,910 - INFO - Epoch: 11/20, Iter: 1/5 -- Loss: 0.9342 \n",
      "2024-10-06 19:18:33,216 - INFO - Epoch: 11/20, Iter: 2/5 -- Loss: 0.7193 \n",
      "2024-10-06 19:18:45,991 - INFO - Epoch: 11/20, Iter: 3/5 -- Loss: 1.0000 \n",
      "2024-10-06 19:18:47,922 - INFO - Epoch: 11/20, Iter: 4/5 -- Loss: 1.0000 \n",
      "2024-10-06 19:18:47,955 - INFO - Epoch: 11/20, Iter: 5/5 -- Loss: 1.0000 \n",
      "2024-10-06 19:20:33,025 - INFO - Epoch: 12/20, Iter: 1/5 -- Loss: 1.0000 \n",
      "2024-10-06 19:20:44,726 - INFO - Epoch: 12/20, Iter: 2/5 -- Loss: 0.9950 \n",
      "2024-10-06 19:20:46,798 - INFO - Epoch: 12/20, Iter: 3/5 -- Loss: 0.9760 \n",
      "2024-10-06 19:21:23,425 - INFO - Epoch: 12/20, Iter: 4/5 -- Loss: 0.9116 \n",
      "2024-10-06 19:21:23,457 - INFO - Epoch: 12/20, Iter: 5/5 -- Loss: 0.7414 \n",
      "2024-10-06 19:23:51,897 - INFO - Epoch[12] Metrics -- Mean_Dice: 0.0860 \n",
      "2024-10-06 19:25:50,960 - INFO - Epoch: 13/20, Iter: 1/5 -- Loss: 1.0000 \n",
      "2024-10-06 19:25:50,997 - INFO - Epoch: 13/20, Iter: 2/5 -- Loss: 1.0000 \n",
      "2024-10-06 19:26:02,793 - INFO - Epoch: 13/20, Iter: 3/5 -- Loss: 0.7125 \n",
      "2024-10-06 19:26:09,699 - INFO - Epoch: 13/20, Iter: 4/5 -- Loss: 1.0000 \n",
      "2024-10-06 19:26:09,731 - INFO - Epoch: 13/20, Iter: 5/5 -- Loss: 1.0000 \n",
      "2024-10-06 19:28:12,584 - INFO - Epoch: 14/20, Iter: 1/5 -- Loss: 0.8885 \n",
      "2024-10-06 19:28:21,871 - INFO - Epoch: 14/20, Iter: 2/5 -- Loss: 1.0000 \n",
      "2024-10-06 19:28:46,748 - INFO - Epoch: 14/20, Iter: 3/5 -- Loss: 0.9916 \n",
      "2024-10-06 19:28:46,780 - INFO - Epoch: 14/20, Iter: 4/5 -- Loss: 0.9972 \n",
      "2024-10-06 19:28:46,814 - INFO - Epoch: 14/20, Iter: 5/5 -- Loss: 1.0000 \n",
      "2024-10-06 19:30:31,562 - INFO - Epoch: 15/20, Iter: 1/5 -- Loss: 1.0000 \n",
      "2024-10-06 19:30:31,598 - INFO - Epoch: 15/20, Iter: 2/5 -- Loss: 0.9124 \n",
      "2024-10-06 19:31:20,611 - INFO - Epoch: 15/20, Iter: 3/5 -- Loss: 0.9902 \n",
      "2024-10-06 19:31:20,644 - INFO - Epoch: 15/20, Iter: 4/5 -- Loss: 1.0000 \n",
      "2024-10-06 19:31:25,855 - INFO - Epoch: 15/20, Iter: 5/5 -- Loss: 0.7779 \n",
      "2024-10-06 19:32:39,194 - INFO - Epoch: 16/20, Iter: 1/5 -- Loss: 0.9838 \n",
      "2024-10-06 19:33:29,269 - INFO - Epoch: 16/20, Iter: 2/5 -- Loss: 1.0000 \n",
      "2024-10-06 19:33:29,302 - INFO - Epoch: 16/20, Iter: 3/5 -- Loss: 1.0000 \n",
      "2024-10-06 19:33:29,334 - INFO - Epoch: 16/20, Iter: 4/5 -- Loss: 0.9120 \n",
      "2024-10-06 19:34:02,950 - INFO - Epoch: 16/20, Iter: 5/5 -- Loss: 0.9970 \n",
      "2024-10-06 19:36:31,576 - INFO - Epoch[16] Metrics -- Mean_Dice: 0.0819 \n",
      "2024-10-06 19:38:14,825 - INFO - Epoch: 17/20, Iter: 1/5 -- Loss: 0.9981 \n",
      "2024-10-06 19:38:17,269 - INFO - Epoch: 17/20, Iter: 2/5 -- Loss: 1.0000 \n",
      "2024-10-06 19:38:51,129 - INFO - Epoch: 17/20, Iter: 3/5 -- Loss: 1.0000 \n",
      "2024-10-06 19:38:51,164 - INFO - Epoch: 17/20, Iter: 4/5 -- Loss: 1.0000 \n",
      "2024-10-06 19:38:56,275 - INFO - Epoch: 17/20, Iter: 5/5 -- Loss: 1.0000 \n",
      "2024-10-06 19:40:47,117 - INFO - Epoch: 18/20, Iter: 1/5 -- Loss: 0.9997 \n",
      "2024-10-06 19:40:47,155 - INFO - Epoch: 18/20, Iter: 2/5 -- Loss: 0.8459 \n",
      "2024-10-06 19:41:17,113 - INFO - Epoch: 18/20, Iter: 3/5 -- Loss: 0.9737 \n",
      "2024-10-06 19:41:17,148 - INFO - Epoch: 18/20, Iter: 4/5 -- Loss: 1.0000 \n",
      "2024-10-06 19:41:17,182 - INFO - Epoch: 18/20, Iter: 5/5 -- Loss: 1.0000 \n",
      "2024-10-06 19:43:30,078 - INFO - Epoch: 19/20, Iter: 1/5 -- Loss: 0.6782 \n",
      "2024-10-06 19:43:30,114 - INFO - Epoch: 19/20, Iter: 2/5 -- Loss: 1.0000 \n",
      "2024-10-06 19:43:30,145 - INFO - Epoch: 19/20, Iter: 3/5 -- Loss: 0.6968 \n",
      "2024-10-06 19:43:30,182 - INFO - Epoch: 19/20, Iter: 4/5 -- Loss: 1.0000 \n",
      "2024-10-06 19:43:30,214 - INFO - Epoch: 19/20, Iter: 5/5 -- Loss: 0.9921 \n",
      "2024-10-06 19:45:34,298 - INFO - Epoch: 20/20, Iter: 1/5 -- Loss: 1.0000 \n",
      "2024-10-06 19:45:34,331 - INFO - Epoch: 20/20, Iter: 2/5 -- Loss: 0.9998 \n",
      "2024-10-06 19:45:34,362 - INFO - Epoch: 20/20, Iter: 3/5 -- Loss: 0.9828 \n",
      "2024-10-06 19:45:34,394 - INFO - Epoch: 20/20, Iter: 4/5 -- Loss: 1.0000 \n",
      "2024-10-06 19:45:41,975 - INFO - Epoch: 20/20, Iter: 5/5 -- Loss: 0.7866 \n",
      "2024-10-06 19:48:10,705 - INFO - Epoch[20] Metrics -- Mean_Dice: 0.0815 \n"
     ]
    }
   ],
   "source": [
    "# create a training data loader\n",
    "train_ds = ArrayDataset(images[:15], imtrans, segs[:15], segtrans)\n",
    "train_loader = DataLoader(\n",
    "    train_ds,\n",
    "    batch_size=3,\n",
    "    shuffle=True,\n",
    "    num_workers=8,\n",
    "    pin_memory=torch.cuda.is_available(),\n",
    ")\n",
    "\n",
    "max_epochs = 20\n",
    "state = trainer.run(train_loader, max_epochs)"
   ]
  },
  {
   "cell_type": "code",
   "execution_count": null,
   "metadata": {},
   "outputs": [
    {
     "name": "stdout",
     "output_type": "stream",
     "text": [
      "The tensorboard extension is already loaded. To reload it, use:\n",
      "  %reload_ext tensorboard\n"
     ]
    }
   ],
   "source": [
    "%load_ext tensorboard"
   ]
  },
  {
   "cell_type": "code",
   "execution_count": null,
   "metadata": {},
   "outputs": [
    {
     "data": {
      "text/plain": [
       "Reusing TensorBoard on port 6008 (pid 2361012), started 2:10:14 ago. (Use '!kill 2361012' to kill it.)"
      ]
     },
     "metadata": {},
     "output_type": "display_data"
    },
    {
     "data": {
      "text/html": [
       "\n",
       "      <iframe id=\"tensorboard-frame-149e0e84f08fc455\" width=\"100%\" height=\"800\" frameborder=\"0\">\n",
       "      </iframe>\n",
       "      <script>\n",
       "        (function() {\n",
       "          const frame = document.getElementById(\"tensorboard-frame-149e0e84f08fc455\");\n",
       "          const url = new URL(\"http://localhost\");\n",
       "          const port = 6008;\n",
       "          if (port) {\n",
       "            url.port = port;\n",
       "          }\n",
       "          frame.src = url;\n",
       "        })();\n",
       "      </script>\n",
       "    "
      ],
      "text/plain": [
       "<IPython.core.display.HTML object>"
      ]
     },
     "metadata": {},
     "output_type": "display_data"
    }
   ],
   "source": [
    "%tensorboard --logdir=log_dir"
   ]
  },
  {
   "cell_type": "code",
   "execution_count": null,
   "metadata": {},
   "outputs": [],
   "source": []
  }
 ],
 "metadata": {
  "kernelspec": {
   "display_name": "LDZN",
   "language": "python",
   "name": "python3"
  },
  "language_info": {
   "codemirror_mode": {
    "name": "ipython",
    "version": 3
   },
   "file_extension": ".py",
   "mimetype": "text/x-python",
   "name": "python",
   "nbconvert_exporter": "python",
   "pygments_lexer": "ipython3",
   "version": "3.11.5"
  }
 },
 "nbformat": 4,
 "nbformat_minor": 2
}
